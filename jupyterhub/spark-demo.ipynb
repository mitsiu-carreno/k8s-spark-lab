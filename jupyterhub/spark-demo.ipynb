{
 "cells": [
  {
   "cell_type": "code",
   "execution_count": null,
   "id": "bd426559-2969-4d09-91f3-436f4b80153f",
   "metadata": {},
   "outputs": [],
   "source": [
    "!java --version"
   ]
  },
  {
   "cell_type": "code",
   "execution_count": null,
   "id": "496fb781-8aef-44f1-978a-f7c6fe206710",
   "metadata": {},
   "outputs": [],
   "source": [
    "!python --version"
   ]
  },
  {
   "cell_type": "code",
   "execution_count": 1,
   "id": "0974d716-9587-4f98-8002-bc978615ac9d",
   "metadata": {},
   "outputs": [],
   "source": [
    "import json\n",
    "import sys\n",
    "import requests\n",
    "from pyspark.sql import SparkSession\n",
    "import os\n",
    "from pyspark.sql.functions import lit\n",
    "import socket\n"
   ]
  },
  {
   "cell_type": "code",
   "execution_count": 7,
   "id": "17458d72-f55a-4190-8b23-5c0ada417902",
   "metadata": {},
   "outputs": [
    {
     "name": "stderr",
     "output_type": "stream",
     "text": [
      "24/10/14 19:10:34 WARN SparkSession: Using an existing Spark session; only runtime SQL configurations will take effect.\n"
     ]
    }
   ],
   "source": [
    "spark = SparkSession.builder \\\n",
    "    .appName(\"demoing\") \\\n",
    "    .master(\"spark://spark-cluster-master-0.spark-cluster-headless.spark-cluster.svc.cluster.local:7077\") \\\n",
    "    .config(\"spark.jars.packages\", \"org.apache.hadoop:hadoop-aws:3.3.4,com.amazonaws:aws-java-sdk-bundle:1.11.1026\") \\\n",
    "    .config(\"spark.executorEnv.JUPYTER_HOST\", socket.gethostbyname(socket.gethostname())) \\\n",
    "    .config(\"spark.driver.host\", socket.gethostbyname(socket.gethostname())) \\\n",
    "    .config(\"spark.hadoop.fs.s3a.endpoint\", \"http://minio.minio.svc.cluster.local:9000\") \\\n",
    "    .config(\"spark.hadoop.fs.s3a.access.key\", \"user\") \\\n",
    "    .config(\"spark.hadoop.fs.s3a.secret.key\", \"password\") \\\n",
    "    .config(\"spark.hadoop.fs.s3a.path.style.access\", \"true\") \\\n",
    "    .config(\"spark.hadoop.fs.s3a.impl\", \"org.apache.hadoop.fs.s3a.S3AFileSystem\") \\\n",
    "    .enableHiveSupport() \\\n",
    "    .getOrCreate()\n"
   ]
  },
  {
   "cell_type": "code",
   "execution_count": 3,
   "id": "b515e6a8-d9a8-4904-87c0-5b9c276634ca",
   "metadata": {},
   "outputs": [
    {
     "name": "stderr",
     "output_type": "stream",
     "text": [
      "24/10/14 19:03:32 WARN MetricsConfig: Cannot locate configuration: tried hadoop-metrics2-s3a-file-system.properties,hadoop-metrics2.properties\n"
     ]
    }
   ],
   "source": [
    "df = spark.read.text(\"s3a://demo/input/access.log\")"
   ]
  },
  {
   "cell_type": "code",
   "execution_count": 4,
   "id": "b471cd85-3daa-4104-b145-e496fd60fa48",
   "metadata": {},
   "outputs": [
    {
     "name": "stderr",
     "output_type": "stream",
     "text": [
      "                                                                                \r"
     ]
    },
    {
     "name": "stdout",
     "output_type": "stream",
     "text": [
      "+--------------------+\n",
      "|               value|\n",
      "+--------------------+\n",
      "|45.166.93.223 - -...|\n",
      "|45.166.93.223 - -...|\n",
      "|45.166.93.223 - -...|\n",
      "|45.166.93.223 - -...|\n",
      "|45.166.93.223 - -...|\n",
      "|45.166.93.223 - -...|\n",
      "|45.166.93.223 - -...|\n",
      "|45.166.93.223 - -...|\n",
      "|45.166.93.223 - -...|\n",
      "|45.166.93.223 - -...|\n",
      "|45.166.93.223 - -...|\n",
      "|45.166.93.223 - -...|\n",
      "|45.166.93.223 - -...|\n",
      "|45.166.93.223 - -...|\n",
      "|45.166.93.223 - -...|\n",
      "|45.166.93.223 - -...|\n",
      "|45.166.93.223 - -...|\n",
      "|45.166.93.223 - -...|\n",
      "|45.166.93.223 - -...|\n",
      "|45.166.93.223 - -...|\n",
      "+--------------------+\n",
      "only showing top 20 rows\n",
      "\n"
     ]
    }
   ],
   "source": [
    "df.show()"
   ]
  },
  {
   "cell_type": "code",
   "execution_count": 6,
   "id": "30f6aa31-c1c7-4cb7-a6fb-106aacf3aac0",
   "metadata": {},
   "outputs": [
    {
     "name": "stdout",
     "output_type": "stream",
     "text": [
      "+-----+---+\n",
      "|value|sum|\n",
      "+-----+---+\n",
      "|    1|  2|\n",
      "+-----+---+\n",
      "\n"
     ]
    },
    {
     "name": "stderr",
     "output_type": "stream",
     "text": [
      "24/10/14 19:05:38 ERROR TaskSchedulerImpl: Lost executor 0 on 10.244.0.213: worker lost: 10.244.0.213:44167 got disassociated\n",
      "24/10/14 19:05:38 WARN TransportChannelHandler: Exception in connection from /10.244.0.213:42192\n",
      "java.io.IOException: Connection reset by peer\n",
      "\tat java.base/sun.nio.ch.FileDispatcherImpl.read0(Native Method)\n",
      "\tat java.base/sun.nio.ch.SocketDispatcher.read(SocketDispatcher.java:39)\n",
      "\tat java.base/sun.nio.ch.IOUtil.readIntoNativeBuffer(IOUtil.java:276)\n",
      "\tat java.base/sun.nio.ch.IOUtil.read(IOUtil.java:233)\n",
      "\tat java.base/sun.nio.ch.IOUtil.read(IOUtil.java:223)\n",
      "\tat java.base/sun.nio.ch.SocketChannelImpl.read(SocketChannelImpl.java:356)\n",
      "\tat io.netty.buffer.PooledByteBuf.setBytes(PooledByteBuf.java:254)\n",
      "\tat io.netty.buffer.AbstractByteBuf.writeBytes(AbstractByteBuf.java:1132)\n",
      "\tat io.netty.channel.socket.nio.NioSocketChannel.doReadBytes(NioSocketChannel.java:357)\n",
      "\tat io.netty.channel.nio.AbstractNioByteChannel$NioByteUnsafe.read(AbstractNioByteChannel.java:151)\n",
      "\tat io.netty.channel.nio.NioEventLoop.processSelectedKey(NioEventLoop.java:788)\n",
      "\tat io.netty.channel.nio.NioEventLoop.processSelectedKeysOptimized(NioEventLoop.java:724)\n",
      "\tat io.netty.channel.nio.NioEventLoop.processSelectedKeys(NioEventLoop.java:650)\n",
      "\tat io.netty.channel.nio.NioEventLoop.run(NioEventLoop.java:562)\n",
      "\tat io.netty.util.concurrent.SingleThreadEventExecutor$4.run(SingleThreadEventExecutor.java:997)\n",
      "\tat io.netty.util.internal.ThreadExecutorMap$2.run(ThreadExecutorMap.java:74)\n",
      "\tat io.netty.util.concurrent.FastThreadLocalRunnable.run(FastThreadLocalRunnable.java:30)\n",
      "\tat java.base/java.lang.Thread.run(Thread.java:829)\n"
     ]
    }
   ],
   "source": [
    "# Create a dataframe with a single row and column containing the value 1\n",
    "df = spark.createDataFrame([(1,)], [\"value\"])\n",
    "\n",
    "# Add 1 to the value of the dataframe\n",
    "df_with_sum = df.withColumn(\"sum\", df[\"value\"] + lit(1))\n",
    "\n",
    "df_with_sum.show()\n"
   ]
  },
  {
   "cell_type": "code",
   "execution_count": null,
   "id": "eacfa6ed-bec6-4a49-89d0-70ef80e4ea2d",
   "metadata": {},
   "outputs": [],
   "source": []
  }
 ],
 "metadata": {
  "kernelspec": {
   "display_name": "PySpark",
   "language": "python",
   "name": "pyspark"
  },
  "language_info": {
   "codemirror_mode": {
    "name": "ipython",
    "version": 3
   },
   "file_extension": ".py",
   "mimetype": "text/x-python",
   "name": "python",
   "nbconvert_exporter": "python",
   "pygments_lexer": "ipython3",
   "version": "3.12.7"
  }
 },
 "nbformat": 4,
 "nbformat_minor": 5
}
