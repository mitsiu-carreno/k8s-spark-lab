{
 "cells": [
  {
   "cell_type": "code",
   "execution_count": null,
   "id": "bd426559-2969-4d09-91f3-436f4b80153f",
   "metadata": {},
   "outputs": [],
   "source": [
    "!java --version"
   ]
  },
  {
   "cell_type": "code",
   "execution_count": null,
   "id": "496fb781-8aef-44f1-978a-f7c6fe206710",
   "metadata": {},
   "outputs": [],
   "source": [
    "!python --version"
   ]
  },
  {
   "cell_type": "code",
   "execution_count": null,
   "id": "0974d716-9587-4f98-8002-bc978615ac9d",
   "metadata": {},
   "outputs": [],
   "source": [
    "import json\n",
    "import sys\n",
    "import requests\n",
    "from pyspark.sql import SparkSession\n",
    "import os\n",
    "from pyspark.sql.functions import lit\n",
    "import socket\n"
   ]
  },
  {
   "cell_type": "code",
   "execution_count": null,
   "id": "17458d72-f55a-4190-8b23-5c0ada417902",
   "metadata": {},
   "outputs": [],
   "source": [
    "# Initiate spark app\n",
    "spark = SparkSession.builder \\\n",
    "    .appName(\"demoing\") \\\n",
    "    .master(\"spark://spark-cluster-master-svc.spark-cluster.svc.cluster.local:7077\") \\\n",
    "    .config(\"spark.jars.packages\", \"org.apache.hadoop:hadoop-aws:3.3.4,com.amazonaws:aws-java-sdk-bundle:1.11.1026\") \\\n",
    "    .config(\"spark.executorEnv.JUPYTER_HOST\", socket.gethostbyname(socket.gethostname())) \\\n",
    "    .config(\"spark.driver.host\", socket.gethostbyname(socket.gethostname())) \\\n",
    "    .config(\"spark.hadoop.fs.s3a.endpoint\", \"http://minio.minio.svc.cluster.local:9000\") \\\n",
    "    .config(\"spark.hadoop.fs.s3a.access.key\", \"user\") \\\n",
    "    .config(\"spark.hadoop.fs.s3a.secret.key\", \"password\") \\\n",
    "    .config(\"spark.hadoop.fs.s3a.path.style.access\", \"true\") \\\n",
    "    .config(\"spark.hadoop.fs.s3a.impl\", \"org.apache.hadoop.fs.s3a.S3AFileSystem\") \\\n",
    "    .enableHiveSupport() \\\n",
    "    .getOrCreate()\n"
   ]
  },
  {
   "cell_type": "code",
   "execution_count": null,
   "id": "b515e6a8-d9a8-4904-87c0-5b9c276634ca",
   "metadata": {},
   "outputs": [],
   "source": [
    "# Read file\n",
    "df = spark.read.text(\"s3a://demo/input/\")"
   ]
  },
  {
   "cell_type": "code",
   "execution_count": null,
   "id": "b471cd85-3daa-4104-b145-e496fd60fa48",
   "metadata": {},
   "outputs": [],
   "source": [
    "# Show values\n",
    "df.show()"
   ]
  },
  {
   "cell_type": "code",
   "execution_count": null,
   "id": "30f6aa31-c1c7-4cb7-a6fb-106aacf3aac0",
   "metadata": {},
   "outputs": [],
   "source": [
    "# Create a dataframe with a single row and column containing the value 1\n",
    "df = spark.createDataFrame([(1,)], [\"value\"])\n",
    "\n",
    "# Add 1 to the value of the dataframe\n",
    "df_with_sum = df.withColumn(\"sum\", df[\"value\"] + lit(1))\n",
    "\n",
    "# Show result\n",
    "df_with_sum.show()\n"
   ]
  },
  {
   "cell_type": "code",
   "execution_count": null,
   "id": "eacfa6ed-bec6-4a49-89d0-70ef80e4ea2d",
   "metadata": {},
   "outputs": [],
   "source": []
  }
 ],
 "metadata": {
  "kernelspec": {
   "display_name": "PySpark",
   "language": "python",
   "name": "pyspark"
  },
  "language_info": {
   "codemirror_mode": {
    "name": "ipython",
    "version": 3
   },
   "file_extension": ".py",
   "mimetype": "text/x-python",
   "name": "python",
   "nbconvert_exporter": "python",
   "pygments_lexer": "ipython3",
   "version": "3.12.7"
  }
 },
 "nbformat": 4,
 "nbformat_minor": 5
}
