{
 "cells": [
  {
   "cell_type": "code",
   "execution_count": null,
   "id": "e5890c57-b977-448c-a25c-950db7d94221",
   "metadata": {},
   "outputs": [],
   "source": [
    "import json\n",
    "import sys\n",
    "import requests\n",
    "from pyspark.sql import SparkSession\n",
    "import os\n",
    "from pyspark.sql.functions import lit\n",
    "import socket\n",
    "import time\n"
   ]
  },
  {
   "cell_type": "code",
   "execution_count": null,
   "id": "ba81fac6-fd15-41c4-85e9-c761bbab811c",
   "metadata": {},
   "outputs": [],
   "source": [
    "spark = SparkSession.builder \\\n",
    "    .appName(\"WordCount_Jupyter\") \\\n",
    "    .master(\"spark://spark-cluster-master-svc.spark-cluster.svc.cluster.local:7077\") \\\n",
    "    .config(\"spark.jars.packages\", \"org.apache.hadoop:hadoop-aws:3.3.4,com.amazonaws:aws-java-sdk-bundle:1.11.1026\") \\\n",
    "    .config(\"spark.executorEnv.JUPYTER_HOST\", socket.gethostbyname(socket.gethostname())) \\\n",
    "    .config(\"spark.driver.host\", socket.gethostbyname(socket.gethostname())) \\\n",
    "    .config(\"spark.hadoop.fs.s3a.endpoint\", \"http://minio.minio.svc.cluster.local:9000\") \\\n",
    "    .config(\"spark.hadoop.fs.s3a.access.key\", \"user\") \\\n",
    "    .config(\"spark.hadoop.fs.s3a.secret.key\", \"password\") \\\n",
    "    .config(\"spark.hadoop.fs.s3a.path.style.access\", \"true\") \\\n",
    "    .config(\"spark.hadoop.fs.s3a.impl\", \"org.apache.hadoop.fs.s3a.S3AFileSystem\") \\\n",
    "    .config(\"spark.executor.cores\", \"1\") \\\n",
    "    .config(\"spark.executor.memory\", \"2g\") \\\n",
    "    .enableHiveSupport() \\\n",
    "    .getOrCreate()\n",
    "\n",
    "# Initialize the spark context\n",
    "sc = spark.sparkContext\n",
    "\n",
    "# From know on we can open port 4040 to see the spark web ui including jobs, DAG, stages, executors etc"
   ]
  },
  {
   "cell_type": "code",
   "execution_count": null,
   "id": "14d4d34d-14fd-4676-a69e-a3b95ea41487",
   "metadata": {},
   "outputs": [],
   "source": [
    "sc2 = sc._jsc.sc()\n",
    "number_of_workers = len([executor.host() for executor in\n",
    "                sc2.statusTracker().getExecutorInfos()]) - 1 "
   ]
  },
  {
   "cell_type": "code",
   "execution_count": null,
   "id": "ac13403e-dfdf-4fec-a493-ea906627f65a",
   "metadata": {},
   "outputs": [],
   "source": [
    "number_of_workers"
   ]
  },
  {
   "cell_type": "code",
   "execution_count": null,
   "id": "35bbe9b6-6428-449e-b809-3779e80d9a94",
   "metadata": {},
   "outputs": [],
   "source": [
    "# I want to measure execution time\n",
    "start = time.time()\n",
    "\n",
    "# Define the path to access the input data\n",
    "input_dir=\"s3a://demo/input/*\" \n",
    "# Initialize the list of input files\n",
    "input_files = sc.textFile(input_dir)\n",
    "\n",
    "# Per file, create a list of all words (divide everythime a space is found)\n",
    "words = input_files.flatMap(lambda line: line.split(\" \"))\n",
    "# Group duplicated words and count occurrences\n",
    "word_counts = words.map(lambda word: (word, 1)).reduceByKey(lambda a,b: a+b)\n",
    "# Sort words by the number of occurrences\n",
    "sorted  = word_counts.sortBy(lambda pair: pair[1], ascending=True)\n",
    "# Join from all workers\n",
    "final = sorted.collect()\n",
    "# Iterate and print\n",
    "for (word, count) in final:\n",
    "    print(\"%s: %i\" % (word, count))\n",
    "\n",
    "# Output into a single file on the s3 bucket\n",
    "sorted.coalesce(1).saveAsTextFile(\"s3a://demo/output/wordcount_jupyter\")\n",
    "\n",
    "# Print elapsed time during execution\n",
    "end = time.time()\n",
    "print(end - start)\n"
   ]
  },
  {
   "cell_type": "code",
   "execution_count": null,
   "id": "93c02bba-3eed-492e-81b1-93eb1bbb4ed7",
   "metadata": {},
   "outputs": [],
   "source": [
    "# Finish app execution\n",
    "sc.stop()"
   ]
  },
  {
   "cell_type": "code",
   "execution_count": null,
   "id": "36cc6a45-21e0-454d-b116-18afcd04171b",
   "metadata": {},
   "outputs": [],
   "source": [
    "sorted.coalesce(1).saveAsTextFile(\"s3a://demo/output/wordcount_jupyter\")"
   ]
  },
  {
   "cell_type": "code",
   "execution_count": null,
   "id": "35cad30e-ed70-4f32-8467-a253ded7c126",
   "metadata": {},
   "outputs": [],
   "source": []
  }
 ],
 "metadata": {
  "kernelspec": {
   "display_name": "PySpark",
   "language": "python",
   "name": "pyspark"
  },
  "language_info": {
   "codemirror_mode": {
    "name": "ipython",
    "version": 3
   },
   "file_extension": ".py",
   "mimetype": "text/x-python",
   "name": "python",
   "nbconvert_exporter": "python",
   "pygments_lexer": "ipython3",
   "version": "3.12.7"
  }
 },
 "nbformat": 4,
 "nbformat_minor": 5
}
