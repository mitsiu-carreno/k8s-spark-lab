{
 "cells": [
  {
   "cell_type": "code",
   "execution_count": null,
   "id": "e5890c57-b977-448c-a25c-950db7d94221",
   "metadata": {},
   "outputs": [],
   "source": [
    "import json\n",
    "import sys\n",
    "import requests\n",
    "from pyspark.sql import SparkSession\n",
    "import os\n",
    "from pyspark.sql.functions import lit\n",
    "import socket\n",
    "import time\n"
   ]
  },
  {
   "cell_type": "code",
   "execution_count": null,
   "id": "ba81fac6-fd15-41c4-85e9-c761bbab811c",
   "metadata": {},
   "outputs": [],
   "source": [
    "spark = SparkSession.builder \\\n",
    "    .appName(\"demoing\") \\\n",
    "    .master(\"spark://spark-cluster-master-0.spark-cluster-headless.spark-cluster.svc.cluster.local:7077\") \\\n",
    "    .config(\"spark.jars.packages\", \"org.apache.hadoop:hadoop-aws:3.3.4,com.amazonaws:aws-java-sdk-bundle:1.11.1026\") \\\n",
    "    .config(\"spark.executorEnv.JUPYTER_HOST\", socket.gethostbyname(socket.gethostname())) \\\n",
    "    .config(\"spark.driver.host\", socket.gethostbyname(socket.gethostname())) \\\n",
    "    .config(\"spark.hadoop.fs.s3a.endpoint\", \"http://minio.minio.svc.cluster.local:9000\") \\\n",
    "    .config(\"spark.hadoop.fs.s3a.access.key\", \"user\") \\\n",
    "    .config(\"spark.hadoop.fs.s3a.secret.key\", \"password\") \\\n",
    "    .config(\"spark.hadoop.fs.s3a.path.style.access\", \"true\") \\\n",
    "    .config(\"spark.hadoop.fs.s3a.impl\", \"org.apache.hadoop.fs.s3a.S3AFileSystem\") \\\n",
    "    .enableHiveSupport() \\\n",
    "    .getOrCreate()\n",
    "\n",
    "sc = spark.sparkContext"
   ]
  },
  {
   "cell_type": "code",
   "execution_count": null,
   "id": "35bbe9b6-6428-449e-b809-3779e80d9a94",
   "metadata": {},
   "outputs": [],
   "source": [
    "start = time.time()\n",
    "\n",
    "input_dir=\"s3a://demo/input/*\" #2476\n",
    "input_files = sc.textFile(input_dir)\n",
    "\n",
    "words = input_files.flatMap(lambda line: line.split(\" \"))\n",
    "word_counts = words.map(lambda word: (word, 1)).reduceByKey(lambda a,b: a+b)\n",
    "sorted  = word_counts.sortBy(lambda pair: pair[1], ascending=True)\n",
    "final = sorted.collect()\n",
    "for (word, count) in final:\n",
    "    print(\"%s: %i\" % (word, count))\n",
    "    \n",
    "sorted.map(lambda x: f\"{x[0], x[1]}\").saveAsTextFile(\"s3a://demo/output/wordcount_jupyter\")\n",
    "\n",
    "end = time.time()\n",
    "print(end - start)\n"
   ]
  },
  {
   "cell_type": "code",
   "execution_count": null,
   "id": "14d4d34d-14fd-4676-a69e-a3b95ea41487",
   "metadata": {},
   "outputs": [],
   "source": [
    "sc2 = sc._jsc.sc()\n",
    "number_of_workers = len([executor.host() for executor in\n",
    "                sc2.statusTracker().getExecutorInfos()]) - 1 "
   ]
  },
  {
   "cell_type": "code",
   "execution_count": null,
   "id": "ac13403e-dfdf-4fec-a493-ea906627f65a",
   "metadata": {},
   "outputs": [],
   "source": [
    "number_of_workers"
   ]
  },
  {
   "cell_type": "code",
   "execution_count": null,
   "id": "9d232c9f-6842-4f71-abfc-302f13a8d084",
   "metadata": {},
   "outputs": [],
   "source": []
  }
 ],
 "metadata": {
  "kernelspec": {
   "display_name": "PySpark",
   "language": "python",
   "name": "pyspark"
  },
  "language_info": {
   "codemirror_mode": {
    "name": "ipython",
    "version": 3
   },
   "file_extension": ".py",
   "mimetype": "text/x-python",
   "name": "python",
   "nbconvert_exporter": "python",
   "pygments_lexer": "ipython3",
   "version": "3.12.7"
  }
 },
 "nbformat": 4,
 "nbformat_minor": 5
}
